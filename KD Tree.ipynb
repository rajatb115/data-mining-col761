{
 "cells": [
  {
   "cell_type": "code",
   "execution_count": 1,
   "metadata": {},
   "outputs": [],
   "source": [
    "import numpy as np\n",
    "import matplotlib.pyplot as plt\n",
    "from scipy.spatial import KDTree\n",
    "from sklearn.decomposition import PCA\n",
    "import scipy "
   ]
  },
  {
   "cell_type": "code",
   "execution_count": 2,
   "metadata": {},
   "outputs": [
    {
     "name": "stdout",
     "output_type": "stream",
     "text": [
      "(1000000, 128)\n"
     ]
    }
   ],
   "source": [
    "data = np.loadtxt(\"image_data.dat\")\n",
    "print(data.shape)"
   ]
  },
  {
   "cell_type": "code",
   "execution_count": 3,
   "metadata": {},
   "outputs": [],
   "source": [
    "pca_2 = PCA(n_components=2)\n",
    "data_2 = pca_2.fit_transform(data)\n",
    "\n",
    "pca_4 = PCA(n_components=4)\n",
    "data_4 = pca_4.fit_transform(data)\n",
    "\n",
    "pca_10 = PCA(n_components=10)\n",
    "data_10 = pca_10.fit_transform(data)\n",
    "\n",
    "pca_20 = PCA(n_components=20)\n",
    "data_20 = pca_20.fit_transform(data)"
   ]
  },
  {
   "cell_type": "code",
   "execution_count": 4,
   "metadata": {},
   "outputs": [],
   "source": [
    "tree_2 = KDTree(data_2,leafsize=1)\n",
    "tree_4 = KDTree(data_4,leafsize=1)\n",
    "tree_10 = KDTree(data_10,leafsize=1)\n",
    "tree_20 = KDTree(data_20,leafsize=1)"
   ]
  },
  {
   "cell_type": "code",
   "execution_count": 5,
   "metadata": {},
   "outputs": [],
   "source": [
    "random_query_2 = np.random.randint(low=1, high=100, size=(100,2), dtype=int)\n",
    "random_query_4 = np.random.randint(low=1, high=100, size=(100,4), dtype=int)\n",
    "random_query_10 = np.random.randint(low=1, high=100, size=(100,10), dtype=int)\n",
    "random_query_20 = np.random.randint(low=1, high=100, size=(100,20), dtype=int)\n"
   ]
  },
  {
   "cell_type": "code",
   "execution_count": null,
   "metadata": {},
   "outputs": [
    {
     "name": "stdout",
     "output_type": "stream",
     "text": [
      "Done for 2 dimensions\n",
      "Done for 4 dimensions\n",
      "Done for 10 dimensions\n"
     ]
    }
   ],
   "source": [
    "import time\n",
    "\n",
    "time_2_kd = []\n",
    "for point in random_query_2:\n",
    "    begin = time.time()\n",
    "    store = tree_2.query(point, k=5)\n",
    "    end = time.time()\n",
    "    time_2_kd.append(end-begin)\n",
    "\n",
    "time_2_kd = np.array(time_2_kd)\n",
    "mean_2_kd = np.mean(time_2_kd)\n",
    "var_2_kd = np.std(time_2_kd)\n",
    "\n",
    "print(\"Done for 2 dimensions\")\n",
    "\n",
    "time_4_kd = []\n",
    "for point in random_query_4:\n",
    "    begin = time.time()\n",
    "    store = tree_4.query(point, k=5)\n",
    "    end = time.time()\n",
    "    time_4_kd.append(end-begin)\n",
    "    \n",
    "time_4_kd = np.array(time_4_kd)\n",
    "mean_4_kd = np.mean(time_4_kd)\n",
    "var_4_kd = np.std(time_4_kd)\n",
    "\n",
    "print(\"Done for 4 dimensions\")\n",
    "\n",
    "time_10_kd = []\n",
    "for point in random_query_10:\n",
    "    begin = time.time()\n",
    "    store = tree_10.query(point, k=5)\n",
    "    end = time.time()\n",
    "    time_10_kd.append(end-begin)\n",
    "\n",
    "time_10_kd = np.array(time_10_kd)\n",
    "mean_10_kd = np.mean(time_10_kd)\n",
    "var_10_kd = np.std(time_10_kd)\n",
    "\n",
    "print(\"Done for 10 dimensions\")\n",
    "\n",
    "time_20_kd = []\n",
    "for point in random_query_20:\n",
    "    begin = time.time()\n",
    "    store = tree_20.query(point, k=5)\n",
    "    end = time.time()\n",
    "    time_20_kd.append(end-begin)\n",
    "\n",
    "time_20_kd = np.array(time_20_kd)\n",
    "mean_20_kd = np.mean(time_20_kd)\n",
    "var_20_kd = np.std(time_20_kd)\n",
    "\n",
    "print(\"Done for 20 dimensions\")"
   ]
  },
  {
   "cell_type": "code",
   "execution_count": null,
   "metadata": {},
   "outputs": [],
   "source": []
  }
 ],
 "metadata": {
  "kernelspec": {
   "display_name": "Python 3",
   "language": "python",
   "name": "python3"
  },
  "language_info": {
   "codemirror_mode": {
    "name": "ipython",
    "version": 3
   },
   "file_extension": ".py",
   "mimetype": "text/x-python",
   "name": "python",
   "nbconvert_exporter": "python",
   "pygments_lexer": "ipython3",
   "version": "3.7.6"
  }
 },
 "nbformat": 4,
 "nbformat_minor": 4
}
