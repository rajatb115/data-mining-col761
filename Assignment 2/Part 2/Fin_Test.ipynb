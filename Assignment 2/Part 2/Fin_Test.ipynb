{
 "cells": [
  {
   "cell_type": "code",
   "execution_count": 1,
   "metadata": {},
   "outputs": [],
   "source": [
    "import numpy as np\n",
    "import matplotlib.pyplot as plt\n",
    "from scipy.spatial import KDTree\n",
    "from sklearn.decomposition import PCA\n",
    "import scipy \n",
    "import time as t"
   ]
  },
  {
   "cell_type": "code",
   "execution_count": 2,
   "metadata": {},
   "outputs": [
    {
     "name": "stdout",
     "output_type": "stream",
     "text": [
      "(1000000, 128)\n"
     ]
    }
   ],
   "source": [
    "data = np.loadtxt(\"image_data.dat\")\n",
    "print(data.shape)"
   ]
  },
  {
   "cell_type": "code",
   "execution_count": 3,
   "metadata": {},
   "outputs": [],
   "source": [
    "pca_2 = PCA(n_components=2)\n",
    "data_2 = pca_2.fit_transform(data)\n",
    "\n",
    "pca_4 = PCA(n_components=4)\n",
    "data_4 = pca_4.fit_transform(data)\n",
    "\n",
    "pca_10 = PCA(n_components=10)\n",
    "data_10 = pca_10.fit_transform(data)\n",
    "\n",
    "pca_20 = PCA(n_components=20)\n",
    "data_20 = pca_20.fit_transform(data)"
   ]
  },
  {
   "cell_type": "code",
   "execution_count": 4,
   "metadata": {},
   "outputs": [],
   "source": [
    "tree_2 = KDTree(data_2,leafsize=1)\n",
    "tree_4 = KDTree(data_4,leafsize=1)\n",
    "tree_10 = KDTree(data_10,leafsize=1)\n",
    "tree_20 = KDTree(data_20,leafsize=1)"
   ]
  },
  {
   "cell_type": "code",
   "execution_count": 5,
   "metadata": {},
   "outputs": [],
   "source": [
    "random_query_2 = np.random.randint(low=1, high=100, size=(100,2), dtype=int)\n",
    "random_query_4 = np.random.randint(low=1, high=100, size=(100,4), dtype=int)\n",
    "random_query_10 = np.random.randint(low=1, high=100, size=(100,10), dtype=int)\n",
    "random_query_20 = np.random.randint(low=1, high=100, size=(100,20), dtype=int)\n"
   ]
  },
  {
   "cell_type": "code",
   "execution_count": 6,
   "metadata": {},
   "outputs": [
    {
     "name": "stdout",
     "output_type": "stream",
     "text": [
      "Done for 2 dimensions\n",
      "Done for 4 dimensions\n",
      "Done for 10 dimensions\n",
      "Done for 20 dimensions\n"
     ]
    }
   ],
   "source": [
    "time_2_kd = []\n",
    "for point in random_query_2:\n",
    "    begin = t.time()\n",
    "    store = tree_2.query(point, k=5)\n",
    "    end = t.time()\n",
    "    time_2_kd.append(end-begin)\n",
    "\n",
    "time_2_kd = np.array(time_2_kd)\n",
    "mean_2_kd = np.mean(time_2_kd)\n",
    "var_2_kd = np.std(time_2_kd)\n",
    "print(\"Done for 2 dimensions\")\n",
    "\n",
    "time_4_kd = []\n",
    "for point in random_query_4:\n",
    "    begin = t.time()\n",
    "    store = tree_4.query(point, k=5)\n",
    "    end = t.time()\n",
    "    time_4_kd.append(end-begin)\n",
    "    \n",
    "time_4_kd = np.array(time_4_kd)\n",
    "mean_4_kd = np.mean(time_4_kd)\n",
    "var_4_kd = np.std(time_4_kd)\n",
    "print(\"Done for 4 dimensions\")\n",
    "\n",
    "time_10_kd = []\n",
    "for point in random_query_10:\n",
    "    begin = t.time()\n",
    "    store = tree_10.query(point, k=5)\n",
    "    end = t.time()\n",
    "    time_10_kd.append(end-begin)\n",
    "\n",
    "time_10_kd = np.array(time_10_kd)\n",
    "mean_10_kd = np.mean(time_10_kd)\n",
    "var_10_kd = np.std(time_10_kd)\n",
    "print(\"Done for 10 dimensions\")\n",
    "\n",
    "time_20_kd = []\n",
    "for point in random_query_20:\n",
    "    begin = t.time()\n",
    "    store = tree_20.query(point, k=5)\n",
    "    end = t.time()\n",
    "    time_20_kd.append(end-begin)\n",
    "\n",
    "time_20_kd = np.array(time_20_kd)\n",
    "mean_20_kd = np.mean(time_20_kd)\n",
    "var_20_kd = np.std(time_20_kd)\n",
    "print(\"Done for 20 dimensions\")"
   ]
  },
  {
   "cell_type": "code",
   "execution_count": 8,
   "metadata": {},
   "outputs": [
    {
     "name": "stdout",
     "output_type": "stream",
     "text": [
      "100000 words added...\n",
      "200000 words added...\n",
      "300000 words added...\n",
      "400000 words added...\n",
      "500000 words added...\n",
      "600000 words added...\n",
      "700000 words added...\n",
      "800000 words added...\n",
      "900000 words added...\n",
      "1000000 words added...\n",
      "MTree created\n",
      "100000 words added...\n",
      "200000 words added...\n",
      "300000 words added...\n",
      "400000 words added...\n",
      "500000 words added...\n",
      "600000 words added...\n",
      "700000 words added...\n",
      "800000 words added...\n",
      "900000 words added...\n",
      "1000000 words added...\n",
      "MTree created\n",
      "100000 words added...\n",
      "200000 words added...\n",
      "300000 words added...\n",
      "400000 words added...\n",
      "500000 words added...\n",
      "600000 words added...\n",
      "700000 words added...\n",
      "800000 words added...\n",
      "900000 words added...\n",
      "1000000 words added...\n",
      "MTree created\n",
      "100000 words added...\n",
      "200000 words added...\n",
      "300000 words added...\n",
      "400000 words added...\n",
      "500000 words added...\n",
      "600000 words added...\n",
      "700000 words added...\n",
      "800000 words added...\n",
      "900000 words added...\n",
      "1000000 words added...\n",
      "MTree created\n"
     ]
    }
   ],
   "source": [
    "\n",
    "def d_int(x, y):     \n",
    "    return abs(x - y)\n",
    "\n",
    "def euclidean_distance(data1, data2):\n",
    "    distance = 0\n",
    "    for v1, v2 in zip(data1, data2):\n",
    "        diff = v1 - v2\n",
    "        distance += diff * diff\n",
    "    distance = math.sqrt(distance)\n",
    "    return distance\n",
    "\n",
    "tree_2 = mtree.MTree(euclidean_distance, max_node_size=4)\n",
    "for n, point in enumerate(data_2, 1):\n",
    "    tree_2.add(tuple(point))\n",
    "    if n % 100000 == 0:\n",
    "        print (\"\\r%r words added...\" % n)\n",
    "print(\"MTree created\")\n",
    "\n",
    "tree_4 = mtree.MTree(euclidean_distance, max_node_size=4)\n",
    "for n, point in enumerate(data_4, 1):\n",
    "    tree_4.add(tuple(point))\n",
    "    if n % 100000 == 0:\n",
    "        print (\"\\r%r words added...\" % n)\n",
    "print(\"MTree created\")\n",
    "\n",
    "tree_10 = mtree.MTree(euclidean_distance, max_node_size=4)\n",
    "for n, point in enumerate(data_10, 1):\n",
    "    tree_10.add(tuple(point))\n",
    "    if n % 100000 == 0:\n",
    "        print (\"\\r%r words added...\" % n)\n",
    "print(\"MTree created\")\n",
    "\n",
    "tree_20 = mtree.MTree(euclidean_distance, max_node_size=4)\n",
    "for n, point in enumerate(data_20, 1):\n",
    "    tree_20.add(tuple(point))\n",
    "    if n % 100000 == 0:\n",
    "        print (\"\\r%r words added...\" % n)\n",
    "print(\"MTree created\")\n"
   ]
  },
  {
   "cell_type": "code",
   "execution_count": 12,
   "metadata": {},
   "outputs": [
    {
     "name": "stdout",
     "output_type": "stream",
     "text": [
      "Done for 2 dimensions\n",
      "Done for 4 dimensions\n",
      "Done for 10 dimensions\n",
      "Done for 20 dimensions\n"
     ]
    }
   ],
   "source": [
    "time_2_mt = []\n",
    "for point in random_query_2:\n",
    "    store = tuple(point)\n",
    "    begin = t.time()\n",
    "    results = list(tree_2.search(store, 5))\n",
    "    end = t.time()\n",
    "    time = end - begin\n",
    "    time_2_mt.append(time)\n",
    "time_2_mt = np.array(time_2_mt)\n",
    "mean_2_mt = np.mean(time_2_mt)\n",
    "var_2_mt = np.std(time_2_mt)\n",
    "print(\"Done for 2 dimensions\")\n",
    "\n",
    "time_4_mt = []\n",
    "for point in random_query_4:\n",
    "    store = tuple(point)\n",
    "    begin = t.time()\n",
    "    results = list(tree_4.search(store, 5))\n",
    "    end = t.time()\n",
    "    time = end - begin\n",
    "    time_4_mt.append(time)\n",
    "time_4_mt = np.array(time_4_mt)\n",
    "mean_4_mt = np.mean(time_4_mt)\n",
    "var_4_mt = np.std(time_4_mt)\n",
    "print(\"Done for 4 dimensions\")\n",
    "\n",
    "time_10_mt = []\n",
    "for point in random_query_10:\n",
    "    store = tuple(point)\n",
    "    begin = t.time()\n",
    "    results = list(tree_10.search(store, 5))\n",
    "    end = t.time()\n",
    "    time = end - begin\n",
    "    time_10_mt.append(time)\n",
    "time_10_mt = np.array(time_10_mt)\n",
    "mean_10_mt = np.mean(time_10_mt)\n",
    "var_10_mt = np.std(time_10_mt)\n",
    "print(\"Done for 10 dimensions\")\n",
    "\n",
    "time_20_mt = []\n",
    "for point in random_query_20:\n",
    "    store = tuple(point)\n",
    "    begin = t.time()\n",
    "    results = list(tree_20.search(store, 5))\n",
    "    end = t.time()\n",
    "    time = end - begin\n",
    "    time_20_mt.append(time)\n",
    "time_20_mt = np.array(time_20_mt)\n",
    "mean_20_mt = np.mean(time_20_mt)\n",
    "var_20_mt = np.std(time_20_mt)\n",
    "print(\"Done for 20 dimensions\")"
   ]
  },
  {
   "cell_type": "code",
   "execution_count": 22,
   "metadata": {},
   "outputs": [
    {
     "name": "stdout",
     "output_type": "stream",
     "text": [
      "Done for dimension 2.\n",
      "Done for dimension 4.\n",
      "Done for dimension 10.\n",
      "Done for dimension 20.\n"
     ]
    }
   ],
   "source": [
    "def kNN_brute(dataset,query_point,k):\n",
    "    index = []\n",
    "    for i in range(0,len(dataset)):\n",
    "        index.append(i)\n",
    "    dist= []\n",
    "    result = []\n",
    "    for point in dataset:\n",
    "        dist.append(np.dot(point-query_point,(point-query_point).T))\n",
    "                    \n",
    "    for i in range(0,k):\n",
    "        dist_min = float('inf')\n",
    "        idx = None\n",
    "        for j in index:\n",
    "            if dist[j] < dist_min:\n",
    "                dist_min = dist[j]\n",
    "                idx = j\n",
    "        result.append(dataset[idx])\n",
    "        index.pop(idx)\n",
    "    return result\n",
    "\n",
    "time_2_bf = []\n",
    "for point in random_query_2:\n",
    "    begin = t.time()\n",
    "    store = kNN_brute(data_2,point,5)\n",
    "    end = t.time()\n",
    "    time_2_bf.append(end - begin)\n",
    "time_2_bf = np.array(time_2_bf)\n",
    "mean_2_bf = np.mean(time_2_bf)\n",
    "std_2_bf = np.std(time_2_bf)\n",
    "print(\"Done for dimension 2.\")\n",
    "\n",
    "time_4_bf = []\n",
    "for point in random_query_4:\n",
    "    begin = t.time()\n",
    "    store = kNN_brute(data_4,point,5)\n",
    "    end = t.time()\n",
    "    time_4_bf.append(end - begin)\n",
    "time_4_bf = np.array(time_4_bf)\n",
    "mean_4_bf = np.mean(time_4_bf)\n",
    "std_4_bf = np.std(time_4_bf)\n",
    "print(\"Done for dimension 4.\")\n",
    "\n",
    "time_10_bf = []\n",
    "for point in random_query_10:\n",
    "    begin = t.time()\n",
    "    store = kNN_brute(data_10,point,5)\n",
    "    end = t.time()\n",
    "    time_10_bf.append(end - begin)\n",
    "time_10_bf = np.array(time_10_bf)\n",
    "mean_10_bf = np.mean(time_10_bf)\n",
    "std_10_bf = np.std(time_10_bf)\n",
    "print(\"Done for dimension 10.\")\n",
    "\n",
    "time_20_bf = []\n",
    "for point in random_query_20:\n",
    "    begin = t.time()\n",
    "    store = kNN_brute(data_20,point,5)\n",
    "    end = t.time()\n",
    "    time_20_bf.append(end - begin)\n",
    "time_20_bf = np.array(time_20_bf)\n",
    "mean_20_bf = np.mean(time_20_bf)\n",
    "std_20_bf = np.std(time_20_bf)\n",
    "print(\"Done for dimension 20.\")\n",
    "        "
   ]
  },
  {
   "cell_type": "code",
   "execution_count": 27,
   "metadata": {},
   "outputs": [
    {
     "data": {
      "image/png": "[encoded data removed]",
      "text/plain": [
       "<Figure size 432x288 with 1 Axes>"
      ]
     },
     "metadata": {
      "needs_background": "light"
     },
     "output_type": "display_data"
    }
   ],
   "source": [
    "time_kd = [mean_2_kd,mean_4_kd,mean_10_kd,mean_20_kd]\n",
    "time_mt = [mean_2_mt,mean_4_mt,mean_10_mt,mean_20_mt]\n",
    "time_bf = [mean_2_bf,mean_4_bf,mean_10_bf,mean_20_bf]\n",
    "error_kd = [var_2_kd,var_4_kd,var_10_kd,var_20_kd]\n",
    "error_mt = [var_2_mt,var_4_mt,var_10_mt,var_20_mt]\n",
    "error_bf = [std_2_bf,std_4_bf,std_10_bf,std_20_bf]\n",
    "x_axis = [2,4,10,20]\n",
    "plt.errorbar(x_axis, time_kd, xerr =0 , yerr = error_kd,label='kd-tree')\n",
    "plt.errorbar(x_axis, time_mt, xerr =0 , yerr = error_mt,label='mt-tree')\n",
    "plt.errorbar(x_axis, time_bf, xerr =0 , yerr = error_bf,label='brute force')\n",
    "plt.legend()\n",
    "plt.savefig(\"plot.png\")\n",
    "plt.show()\n"
   ]
  },
  {
   "cell_type": "code",
   "execution_count": null,
   "metadata": {},
   "outputs": [],
   "source": []
  }
 ],
 "metadata": {
  "kernelspec": {
   "display_name": "Python 3",
   "language": "python",
   "name": "python3"
  },
  "language_info": {
   "codemirror_mode": {
    "name": "ipython",
    "version": 3
   },
   "file_extension": ".py",
   "mimetype": "text/x-python",
   "name": "python",
   "nbconvert_exporter": "python",
   "pygments_lexer": "ipython3",
   "version": "3.7.6"
  }
 },
 "nbformat": 4,
 "nbformat_minor": 4
}
